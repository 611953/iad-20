{
 "cells": [
  {
   "cell_type": "markdown",
   "metadata": {},
   "source": [
    "#Ссылки и полезная информация\n",
    "\n",
    "## Закрепленные\n",
    "\n",
    "* http://shad.people.yandex.net/\n",
    "\n",
    "* [Вики-страница курса]( http://wiki.cs.hse.ru/%D0%9C%D0%B0%D0%B9%D0%BD%D0%BE%D1%80_%D0%98%D0%BD%D1%82%D0%B5%D0%BB%D0%BB%D0%B5%D0%BA%D1%82%D1%83%D0%B0%D0%BB%D1%8C%D0%BD%D1%8B%D0%B9_%D0%B0%D0%BD%D0%B0%D0%BB%D0%B8%D0%B7_%D0%B4%D0%B0%D0%BD%D0%BD%D1%8B%D1%85/%D0%92%D0%B2%D0%B5%D0%B4%D0%B5%D0%BD%D0%B8%D0%B5_%D0%B2_%D0%B0%D0%BD%D0%B0%D0%BB%D0%B8%D0%B7_%D0%B4%D0%B0%D0%BD%D0%BD%D1%8B%D1%85)\n"
   ]
  },
  {
   "cell_type": "markdown",
   "metadata": {},
   "source": [
    "## 11.01.2016\n",
    "\n",
    "* [Анкета с первого занятия](http://goo.gl/forms/EpBjdfWbZU)\n",
    "\n",
    "Заметки\n",
    "\n",
    "* [Умело нарисованный рассказ о задаче классификации домов](http://www.r2d3.us/visual-intro-to-machine-learning-part-1/)\n",
    "\n",
    "* [Машинное обучение в картинках](http://www.toptal.com/machine-learning/machine-learning-theory-an-introductory-primer)\n",
    "\n",
    "Несколько онлайн-курсов:\n",
    "\n",
    "* [Курс Andrew Ng](https://www.coursera.org/learn/machine-learning)\n",
    "\n",
    "* [Вышкинский курс, стартующий в январе](https://www.coursera.org/learn/introduction-machine-learning)\n",
    "\n",
    "Учебники для желающий поближе познакомиться с теорией:\n",
    "\n",
    "* http://www.deeplearningbook.org/\n",
    "\n",
    "* http://www-bcf.usc.edu/~gareth/ISL/ISLR%20Sixth%20Printing.pdf\n",
    "\n",
    "Аггрегаторы новостей:\n",
    "* [Раз, например](http://www.datatau.com/)\n",
    "\n",
    "* [И два, например](https://www.reddit.com/r/MachineLearning/)"
   ]
  },
  {
   "cell_type": "markdown",
   "metadata": {
    "collapsed": true
   },
   "source": [
    "## 19.01.2016\n",
    "\n",
    "* [Разметка текстов в ipython notebook](https://help.github.com/articles/markdown-basics/)\n",
    "\n",
    "* [Заметка об использовании Pandas](http://synesthesiam.com/posts/an-introduction-to-pandas.html)"
   ]
  },
  {
   "cell_type": "code",
   "execution_count": null,
   "metadata": {
    "collapsed": true
   },
   "outputs": [],
   "source": []
  }
 ],
 "metadata": {
  "kernelspec": {
   "display_name": "Python 3",
   "language": "python",
   "name": "python3"
  },
  "language_info": {
   "codemirror_mode": {
    "name": "ipython",
    "version": 3
   },
   "file_extension": ".py",
   "mimetype": "text/x-python",
   "name": "python",
   "nbconvert_exporter": "python",
   "pygments_lexer": "ipython3",
   "version": "3.4.3"
  }
 },
 "nbformat": 4,
 "nbformat_minor": 0
}
