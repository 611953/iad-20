{
 "cells": [
  {
   "cell_type": "markdown",
   "metadata": {},
   "source": [
    "# Метод k-ближайших соседей в задаче классификации\n",
    "\n",
    "** Метрика ** - функция пары объектов, удовлетворяющая для любых $x, y, z$ следующим соотношениям:\n",
    "\n",
    "1. $d(x, y) \\geq 0$\n",
    "\n",
    "2. $d(x, y) = 0 \\leftrightarrow x = y $\n",
    "\n",
    "3. $d(x, y) = d(y, x)$\n",
    "\n",
    "4. $d(x, y) \\leq d(x, z) + d(x, y)$\n",
    "\n",
    "** Примеры ** (кто знает, кто вспомнит?)\n",
    "\n",
    "Пусть на признаковом пространстве задана метрика.\n",
    "\n",
    "**Алгоритм:**\n",
    "\n",
    "1. Получаем на вход объект\n",
    "2. Находим в обучающей выборки k ближайших ко входному объектов\n",
    "3. Относим входной объект к классу, доминирующему в выборке\n",
    "\n",
    "Такой алгоритм будет корректно решать задачу классификации, если выполнена **гипотеза компактности**: рядом в произвольным объектом чаще встречаются объекты его класса."
   ]
  },
  {
   "cell_type": "code",
   "execution_count": null,
   "metadata": {
    "collapsed": false
   },
   "outputs": [],
   "source": [
    "%matplotlib inline\n",
    "import numpy as np\n",
    "import matplotlib.pyplot as plt\n",
    "import seaborn; \n",
    "from sklearn.linear_model import LinearRegression\n",
    "from scipy import stats\n",
    "import pylab as pl\n",
    "\n",
    "seaborn.set()"
   ]
  },
  {
   "cell_type": "markdown",
   "metadata": {},
   "source": [
    "## Ирисы\n",
    "\n",
    "Начнем знакомство с алгоритмом на примере классического набора данных."
   ]
  },
  {
   "cell_type": "code",
   "execution_count": null,
   "metadata": {
    "collapsed": false
   },
   "outputs": [],
   "source": [
    "from sklearn.datasets import load_iris\n",
    "iris = load_iris()\n",
    "\n",
    "n_samples, n_features = iris.data.shape\n",
    "\n",
    "print('We have {} samples, {} features'.format(n_samples, n_features))\n",
    "print('Target names are: {}, {}, {}'.format(*iris.target_names))\n",
    "print('We are provided with the following features: {}, {}, {}, {}'.format(*iris.feature_names))"
   ]
  },
  {
   "cell_type": "markdown",
   "metadata": {},
   "source": [
    "## Визуализация\n",
    "\n",
    "Изобразим классы в зависимости от ширины наружной доли околоцветника и длины внутренней доли около цветника."
   ]
  },
  {
   "cell_type": "code",
   "execution_count": null,
   "metadata": {
    "collapsed": false
   },
   "outputs": [],
   "source": [
    "import numpy as np\n",
    "import matplotlib.pyplot as plt\n",
    "\n",
    "# 'sepal width (cm)'\n",
    "x_index = 1\n",
    "# 'petal length (cm)'\n",
    "y_index = 2\n",
    "\n",
    "# this formatter will label the colorbar with the correct target names\n",
    "formatter = plt.FuncFormatter(lambda i, *args: iris.target_names[int(i)])\n",
    "\n",
    "plt.scatter(iris.data[:, x_index], iris.data[:, y_index],\n",
    "            c=iris.target, cmap=plt.cm.get_cmap('RdYlBu', 3))\n",
    "plt.colorbar(ticks=[0, 1, 2], format=formatter)\n",
    "plt.clim(-0.5, 2.5)\n",
    "plt.xlabel(iris.feature_names[x_index])\n",
    "plt.ylabel(iris.feature_names[y_index]);"
   ]
  },
  {
   "cell_type": "markdown",
   "metadata": {},
   "source": [
    "Признаков немного, поэтому можно также перебрать все их пары."
   ]
  },
  {
   "cell_type": "code",
   "execution_count": null,
   "metadata": {
    "collapsed": false
   },
   "outputs": [],
   "source": [
    "fig, axes = plt.subplots(4, 4)\n",
    "fig.set_size_inches(20, 20)\n",
    "formatter = plt.FuncFormatter(lambda i, *args: iris.target_names[int(i)])\n",
    "\n",
    "for x_index in range(4):\n",
    "    for y_index in range(4):\n",
    "        if x_index != y_index:\n",
    "            axes[x_index, y_index].scatter(iris.data[:, x_index], iris.data[:, y_index],\n",
    "                                           c=iris.target, cmap=plt.cm.get_cmap('RdYlBu', 3))\n",
    "            #axes[x_index, y_index].colorbar(ticks=[0, 1, 2], format=formatter)\n",
    "            #plt.clim(-0.5, 2.5)\n",
    "            axes[x_index, y_index].set_xlabel(iris.feature_names[x_index])\n",
    "            axes[x_index, y_index].set_ylabel(iris.feature_names[y_index])\n",
    "            \n",
    "fig.subplots_adjust(right=0.8)"
   ]
  },
  {
   "cell_type": "markdown",
   "metadata": {},
   "source": [
    "# Ближайшие соседи в действии\n",
    "\n",
    "Помимо выбора числа соседей, параметры класса позволяют \n",
    "- определять важность объектов обучающей выборки (*weights*)\n",
    "- определять алгоритмы поиска соседей (*algorithm*)\n",
    "- определять метрику (*metric, p, metric_params*)"
   ]
  },
  {
   "cell_type": "code",
   "execution_count": null,
   "metadata": {
    "collapsed": false
   },
   "outputs": [],
   "source": [
    "from sklearn import neighbors, datasets\n",
    "\n",
    "help(neighbors.KNeighborsClassifier)"
   ]
  },
  {
   "cell_type": "markdown",
   "metadata": {},
   "source": [
    "Обучаемся"
   ]
  },
  {
   "cell_type": "code",
   "execution_count": null,
   "metadata": {
    "collapsed": true
   },
   "outputs": [],
   "source": [
    "iris = datasets.load_iris()\n",
    "X, y = iris.data, iris.target\n",
    "\n",
    "# create the model\n",
    "knn = neighbors.KNeighborsClassifier(n_neighbors=5, weights='uniform')\n",
    "\n",
    "# fit the model\n",
    "knn.fit(X, y)"
   ]
  },
  {
   "cell_type": "markdown",
   "metadata": {},
   "source": [
    "Предсказываем"
   ]
  },
  {
   "cell_type": "code",
   "execution_count": null,
   "metadata": {
    "collapsed": true
   },
   "outputs": [],
   "source": [
    "# What kind of iris has 3cm x 5cm sepal and 4cm x 2cm petal?\n",
    "X_pred = [3, 5, 4, 2]\n",
    "result = knn.predict([X_pred, ])\n",
    "\n",
    "print(iris.target_names[result])\n",
    "print(iris.target_names)\n",
    "print(knn.predict_proba([X_pred, ]))"
   ]
  },
  {
   "cell_type": "markdown",
   "metadata": {},
   "source": [
    "*Упражнение.* Как выбрать число соседей? Подберите его с помощью кроссвалидации по схеме *Leave One Out*"
   ]
  },
  {
   "cell_type": "code",
   "execution_count": null,
   "metadata": {
    "collapsed": true
   },
   "outputs": [],
   "source": []
  },
  {
   "cell_type": "markdown",
   "metadata": {},
   "source": [
    "## Анализ работы алгоритма\n",
    "\n",
    "Визуализируем решающее правило"
   ]
  },
  {
   "cell_type": "code",
   "execution_count": null,
   "metadata": {
    "collapsed": false
   },
   "outputs": [],
   "source": [
    "from matplotlib.colors import ListedColormap\n",
    "\n",
    "cmap_light = ListedColormap(['#FFAAAA', '#AAFFAA', '#AAAAFF'])\n",
    "cmap_bold = ListedColormap(['#FF0000', '#00FF00', '#0000FF'])\n",
    "\n",
    "def plot_iris_knn():\n",
    "    iris = datasets.load_iris()\n",
    "    X = iris.data[:, :2]  # we only take the first two features. We could\n",
    "                        # avoid this ugly slicing by using a two-dim dataset\n",
    "    y = iris.target\n",
    "\n",
    "    knn = neighbors.KNeighborsClassifier(n_neighbors=5)\n",
    "    knn.fit(X, y)\n",
    "\n",
    "    x_min, x_max = X[:, 0].min() - .1, X[:, 0].max() + .1\n",
    "    y_min, y_max = X[:, 1].min() - .1, X[:, 1].max() + .1\n",
    "    xx, yy = np.meshgrid(np.linspace(x_min, x_max, 100),\n",
    "                         np.linspace(y_min, y_max, 100))\n",
    "    Z = knn.predict(np.c_[xx.ravel(), yy.ravel()])\n",
    "\n",
    "    # Put the result into a color plot\n",
    "    Z = Z.reshape(xx.shape)\n",
    "    pl.figure()\n",
    "    pl.pcolormesh(xx, yy, Z, cmap=cmap_light)\n",
    "\n",
    "    # Plot also the training points\n",
    "    pl.scatter(X[:, 0], X[:, 1], c=y, cmap=cmap_bold)\n",
    "    pl.xlabel('sepal length (cm)')\n",
    "    pl.ylabel('sepal width (cm)')\n",
    "    pl.axis('tight')\n",
    "    \n",
    "plot_iris_knn()"
   ]
  },
  {
   "cell_type": "markdown",
   "metadata": {},
   "source": [
    "О чем стоит тут задуматься?\n",
    "\n",
    "1. Сложность решающего правила\n",
    "2. Допустимые размеры данных\n",
    "3. Выбросы\n",
    "4. Метрика\n",
    "\n",
    "*Упражнение.* Нарисовать результат работы алгоритма, использующего другую метрику. Заметна ли разница?"
   ]
  },
  {
   "cell_type": "code",
   "execution_count": null,
   "metadata": {
    "collapsed": true
   },
   "outputs": [],
   "source": [
    "#Попробуйте другие метрики"
   ]
  },
  {
   "cell_type": "markdown",
   "metadata": {},
   "source": [
    "## Проклятие размерности\n",
    "\n",
    "Еще один важный момент, о котором не заставляют задуматься ирисы Фишера.\n",
    "\n",
    "...\n",
    "\n",
    "Один признак:"
   ]
  },
  {
   "cell_type": "code",
   "execution_count": null,
   "metadata": {
    "collapsed": false
   },
   "outputs": [],
   "source": [
    "from sklearn.cross_validation import cross_val_score\n",
    "\n",
    "X_a = np.random.randn(100, 1)\n",
    "X_a[:, 0] += -1\n",
    "X_b = np.random.randn(100, 1)\n",
    "X_b[:, 0] += 1\n",
    "\n",
    "X = np.concatenate((X_a, X_b), axis = 0)\n",
    "\n",
    "y = np.zeros(200)\n",
    "y[:100] = 1\n",
    "\n",
    "estimator = neighbors.KNeighborsClassifier(n_neighbors = 10)\n",
    "\n",
    "cross_val_score(estimator, X, y).mean()"
   ]
  },
  {
   "cell_type": "markdown",
   "metadata": {},
   "source": [
    "Двадцать:"
   ]
  },
  {
   "cell_type": "code",
   "execution_count": null,
   "metadata": {
    "collapsed": false
   },
   "outputs": [],
   "source": [
    "from sklearn.cross_validation import cross_val_score\n",
    "\n",
    "X_a = np.random.randn(100, 20)\n",
    "X_a[:, 0] += -1\n",
    "X_b = np.random.randn(100, 20)\n",
    "X_b[:, 0] += 1\n",
    "\n",
    "X = np.concatenate((X_a, X_b), axis = 0)\n",
    "\n",
    "y = np.zeros(200)\n",
    "y[:100] = 1\n",
    "\n",
    "estimator = neighbors.KNeighborsClassifier(n_neighbors = 10)\n",
    "\n",
    "cross_val_score(estimator, X, y).mean()"
   ]
  },
  {
   "cell_type": "markdown",
   "metadata": {},
   "source": [
    "Две сотни:"
   ]
  },
  {
   "cell_type": "code",
   "execution_count": null,
   "metadata": {
    "collapsed": false
   },
   "outputs": [],
   "source": [
    "from sklearn.cross_validation import cross_val_score\n",
    "\n",
    "X_a = np.random.randn(100, 200)\n",
    "X_a[:, 0] += -1\n",
    "X_b = np.random.randn(100, 200)\n",
    "X_b[:, 0] += 1\n",
    "\n",
    "X = np.concatenate((X_a, X_b), axis = 0)\n",
    "\n",
    "y = np.zeros(200)\n",
    "y[:100] = 1\n",
    "\n",
    "estimator = neighbors.KNeighborsClassifier(n_neighbors = 10)\n",
    "\n",
    "cross_val_score(estimator, X, y).mean()"
   ]
  },
  {
   "cell_type": "markdown",
   "metadata": {},
   "source": [
    "Заплатка:"
   ]
  },
  {
   "cell_type": "code",
   "execution_count": null,
   "metadata": {
    "collapsed": false
   },
   "outputs": [],
   "source": [
    "from sklearn.decomposition import PCA\n",
    "from sklearn.preprocessing import normalize\n",
    "\n",
    "X_norm = normalize(X)\n",
    "X_low_dim = PCA(10).fit_transform(X_norm)\n",
    "\n",
    "estimator = neighbors.KNeighborsClassifier(n_neighbors = 5)\n",
    "\n",
    "cross_val_score(estimator, X_low_dim, y).mean()"
   ]
  },
  {
   "cell_type": "markdown",
   "metadata": {},
   "source": [
    "# Послесловие"
   ]
  },
  {
   "cell_type": "code",
   "execution_count": null,
   "metadata": {
    "collapsed": false
   },
   "outputs": [],
   "source": [
    "from IPython.display import Image\n",
    "Image(\"http://scikit-learn.org/dev/_static/ml_map.png\", width=800)"
   ]
  }
 ],
 "metadata": {
  "kernelspec": {
   "display_name": "Python 2",
   "language": "python",
   "name": "python2"
  },
  "language_info": {
   "codemirror_mode": {
    "name": "ipython",
    "version": 2
   },
   "file_extension": ".py",
   "mimetype": "text/x-python",
   "name": "python",
   "nbconvert_exporter": "python",
   "pygments_lexer": "ipython2",
   "version": "2.7.11"
  }
 },
 "nbformat": 4,
 "nbformat_minor": 0
}
