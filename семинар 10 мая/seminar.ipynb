{
 "cells": [
  {
   "cell_type": "markdown",
   "metadata": {},
   "source": [
    "# Снижение размерности"
   ]
  },
  {
   "cell_type": "code",
   "execution_count": null,
   "metadata": {
    "collapsed": true
   },
   "outputs": [],
   "source": [
    "import numpy as np\n",
    "import matplotlib.pyplot as plt\n",
    "from sklearn.decomposition import PCA\n",
    "from mpl_toolkits.mplot3d import Axes3D\n",
    "%matplotlib inline"
   ]
  },
  {
   "cell_type": "code",
   "execution_count": null,
   "metadata": {
    "collapsed": false
   },
   "outputs": [],
   "source": [
    "help(PCA)"
   ]
  },
  {
   "cell_type": "raw",
   "metadata": {},
   "source": [
    "Аттрибуты:\n",
    "components_\n",
    "explained_variance_ratio_\n",
    "mean_\n",
    "n_components_\n",
    "noise_variance_\n",
    "\n",
    "Методы:\n",
    "fit\n",
    "fit_transform\n",
    "inverse_transform\n",
    "transform"
   ]
  },
  {
   "cell_type": "markdown",
   "metadata": {},
   "source": [
    "## Данные на прямой\n",
    "Понижаем размерность. Иногда это получается очень хорошо:"
   ]
  },
  {
   "cell_type": "code",
   "execution_count": null,
   "metadata": {
    "collapsed": false
   },
   "outputs": [],
   "source": [
    "X = np.dot(np.random.random(size=(2, 2)), np.random.normal(size=(2, 200))).T\n",
    "plt.plot(X[:, 0], X[:, 1], 'o')\n",
    "plt.axis('equal');"
   ]
  },
  {
   "cell_type": "code",
   "execution_count": null,
   "metadata": {
    "collapsed": false
   },
   "outputs": [],
   "source": [
    "pca = PCA(n_components=2)\n",
    "pca.fit(X)\n",
    "print(pca.explained_variance_ratio_)\n",
    "print(pca.components_)"
   ]
  },
  {
   "cell_type": "code",
   "execution_count": null,
   "metadata": {
    "collapsed": false
   },
   "outputs": [],
   "source": [
    "plt.plot(X[:, 0], X[:, 1], 'o', alpha=0.5)\n",
    "for length, vector in zip(pca.explained_variance_ratio_, pca.components_):\n",
    "    v = vector * 3 * np.sqrt(length)\n",
    "    plt.plot([0, v[0]], [0, v[1]], '-k', lw=3)\n",
    "plt.axis('equal');"
   ]
  },
  {
   "cell_type": "markdown",
   "metadata": {},
   "source": [
    "Число компонент может выбираться на основе explained_variance_ratio:"
   ]
  },
  {
   "cell_type": "code",
   "execution_count": null,
   "metadata": {
    "collapsed": false
   },
   "outputs": [],
   "source": [
    "clf = PCA(0.95) # keep 95% of variance\n",
    "X_trans = clf.fit_transform(X)\n",
    "print(X.shape)\n",
    "print(X_trans.shape)"
   ]
  },
  {
   "cell_type": "markdown",
   "metadata": {},
   "source": [
    "Сжатые данные в исходном пространстве:"
   ]
  },
  {
   "cell_type": "code",
   "execution_count": null,
   "metadata": {
    "collapsed": false
   },
   "outputs": [],
   "source": [
    "X_new = clf.inverse_transform(X_trans)\n",
    "plt.plot(X[:, 0], X[:, 1], 'o', alpha=0.2)\n",
    "plt.plot(X_new[:, 0], X_new[:, 1], 'ob', alpha=0.8)\n",
    "plt.axis('equal');"
   ]
  },
  {
   "cell_type": "markdown",
   "metadata": {},
   "source": [
    "## Данные на торе"
   ]
  },
  {
   "cell_type": "code",
   "execution_count": null,
   "metadata": {
    "collapsed": false
   },
   "outputs": [],
   "source": [
    "def torus(n = 300, R = 5, r = 0.2):\n",
    "    phi = 2 * np.pi * np.random.rand(n)\n",
    "    psi = 2 * np.pi * np.random.rand(n)\n",
    "    xs = 2 * R * np.cos(phi) + r * np.cos(psi) * np.cos(phi)\n",
    "    ys = R * np.sin(phi) + r * np.cos(psi) * np.sin(phi)\n",
    "    zs = r * np.sin(psi)\n",
    "    return np.asarray((xs, ys, zs))\n",
    "\n",
    "fig = plt.figure(figsize = (10, 10))\n",
    "ax = fig.add_subplot(111, projection = '3d')\n",
    "ax.set_zlim((-2, 2))\n",
    "ax.set_xlim((-15, 15))\n",
    "ax.set_ylim((-15, 15))\n",
    "ax.view_init(30, 40)\n",
    "ps3 = torus()\n",
    "ax.scatter(ps3[0], ps3[1], ps3[2], c = 'r');"
   ]
  },
  {
   "cell_type": "markdown",
   "metadata": {},
   "source": [
    " Проводим плоскость:"
   ]
  },
  {
   "cell_type": "code",
   "execution_count": null,
   "metadata": {
    "collapsed": false
   },
   "outputs": [],
   "source": [
    "from sklearn.decomposition import PCA\n",
    "X = ps.transpose()\n",
    "pca = PCA(n_components=2)\n",
    "pca.fit(X)\n",
    "\n",
    "ps2 = pca.inverse_transform(pca.transform(X)).transpose()\n",
    "\n",
    "print(pca.explained_variance_ratio_)\n",
    "print(pca.components_)\n",
    "plt.scatter(pca.transform(X)[:, 0], pca.transform(X)[:, 1], c = 'g');"
   ]
  },
  {
   "cell_type": "code",
   "execution_count": null,
   "metadata": {
    "collapsed": false
   },
   "outputs": [],
   "source": [
    "from sklearn.decomposition import PCA\n",
    "X = ps.transpose()\n",
    "pca = PCA(n_components=1)\n",
    "pca.fit(X)\n",
    "ps1 = pca.inverse_transform(pca.transform(X)).transpose()\n",
    "print(pca.explained_variance_ratio_)\n",
    "print(pca.components_)"
   ]
  },
  {
   "cell_type": "code",
   "execution_count": null,
   "metadata": {
    "collapsed": false
   },
   "outputs": [],
   "source": [
    "fig = plt.figure(figsize = (10, 10))\n",
    "ax = fig.add_subplot(111, projection = '3d')\n",
    "ax.set_zlim((-2, 2))\n",
    "ax.view_init(30, 40)\n",
    "ps = torus()\n",
    "ax.scatter(ps[0], ps[1], ps[2], c = 'r')\n",
    "ax.scatter(ps2[0], ps2[1], ps2[2], c = 'g')\n",
    "ax.scatter(ps1[0], ps1[1], ps1[2], c = 'b');"
   ]
  },
  {
   "cell_type": "markdown",
   "metadata": {},
   "source": [
    "Два тора?"
   ]
  },
  {
   "cell_type": "code",
   "execution_count": null,
   "metadata": {
    "collapsed": true
   },
   "outputs": [],
   "source": []
  },
  {
   "cell_type": "markdown",
   "metadata": {},
   "source": [
    "# Лица\n",
    "*Часть кода взята с githib.com/ddtm*"
   ]
  },
  {
   "cell_type": "code",
   "execution_count": null,
   "metadata": {
    "collapsed": false
   },
   "outputs": [],
   "source": [
    "import scipy.io\n",
    "\n",
    "image_h, image_w = 32, 32\n",
    "\n",
    "data = scipy.io.loadmat('faces_data.mat')\n",
    "\n",
    "X_train = data['train_faces'].reshape((image_w, image_h, -1)).transpose((2, 1, 0)).reshape((-1, image_h * image_w))\n",
    "y_train = data['train_labels'] - 1\n",
    "X_test = data['test_faces'].reshape((image_w, image_h, -1)).transpose((2, 1, 0)).reshape((-1, image_h * image_w))\n",
    "y_test = data['test_labels'] - 1\n",
    "\n",
    "n_features = X_train.shape[1]\n",
    "n_train = len(y_train)\n",
    "n_test = len(y_test)\n",
    "n_classes = len(np.unique(y_train))\n",
    "\n",
    "print('Dataset loaded.')\n",
    "print('  Image size        : {}x{}'.format(image_h, image_w))\n",
    "print('  Train images      : {}'.format(n_train))\n",
    "print('  Test images       : {}'.format(n_test))\n",
    "print('  Number of classes : {}'.format(n_classes))"
   ]
  },
  {
   "cell_type": "code",
   "execution_count": null,
   "metadata": {
    "collapsed": false
   },
   "outputs": [],
   "source": [
    "def plot_gallery(images, titles, h, w, n_row=3, n_col=6):\n",
    "    \"\"\"Helper function to plot a gallery of portraits\"\"\"\n",
    "    plt.figure(figsize=(1.5 * n_col, 1.7 * n_row))\n",
    "    plt.subplots_adjust(bottom=0, left=.01, right=.99, top=.90, hspace=.35)\n",
    "    for i in range(n_row * n_col):\n",
    "        plt.subplot(n_row, n_col, i + 1)\n",
    "        plt.imshow(images[i].reshape((h, w)), cmap=plt.cm.gray, interpolation='nearest')\n",
    "        plt.title(titles[i], size=12)\n",
    "        plt.xticks(())\n",
    "        plt.yticks(())\n",
    "        \n",
    "titles = [str(y[0]) for y in y_train]\n",
    "plot_gallery(X_train, titles, image_h, image_w)"
   ]
  },
  {
   "cell_type": "code",
   "execution_count": null,
   "metadata": {
    "collapsed": false
   },
   "outputs": [],
   "source": [
    "X_train_processed = (X_train - X_train.mean(axis = 1)[..., None]) / X_train.std(axis = 1)[..., None]\n",
    "\n",
    "from sklearn.decomposition import RandomizedPCA\n",
    "\n",
    "n_components = 64"
   ]
  },
  {
   "cell_type": "markdown",
   "metadata": {},
   "source": [
    "Воспользуйтесь классом RandomizedPCA для снижения размерности картинок, с помощью функции plot_gallery визуализируйте главные компоненты"
   ]
  },
  {
   "cell_type": "code",
   "execution_count": null,
   "metadata": {
    "collapsed": true
   },
   "outputs": [],
   "source": []
  },
  {
   "cell_type": "markdown",
   "metadata": {},
   "source": [
    "Обучите ваш любимый классификатор определению лиц, используя новое уменьшенное пространство признаков"
   ]
  },
  {
   "cell_type": "code",
   "execution_count": null,
   "metadata": {
    "collapsed": true
   },
   "outputs": [],
   "source": []
  }
 ],
 "metadata": {
  "kernelspec": {
   "display_name": "Python 3",
   "language": "python",
   "name": "python3"
  },
  "language_info": {
   "codemirror_mode": {
    "name": "ipython",
    "version": 3
   },
   "file_extension": ".py",
   "mimetype": "text/x-python",
   "name": "python",
   "nbconvert_exporter": "python",
   "pygments_lexer": "ipython3",
   "version": "3.5.1"
  }
 },
 "nbformat": 4,
 "nbformat_minor": 0
}
