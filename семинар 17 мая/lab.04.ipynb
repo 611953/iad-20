{
 "cells": [
  {
   "cell_type": "markdown",
   "metadata": {},
   "source": [
    "# Лабораторная работа 4\n",
    "\n",
    "## Общая информация\n",
    "\n",
    "Дата выдачи: 17.05.2016\n",
    "\n",
    "Срок сдачи: **24.05.2016 23:59 MSK **\n",
    "\n",
    "### О задании\n",
    "Цель лабораторной работы №4 - закрепить навыки работы с библиотекой sklearn, в частности с логическими методами классификации, методом главных компонент и метриками качества. Все задания выполняются в рамках задачи многоклассовой классификации цифр по их рукописному начертанию.\n",
    "\n",
    "### Оценивание и штрафы\n",
    "Каждая из задач имеет определенную «стоимость» (указана в скобках около задачи). Максимально допустимая оценка за работу — 10 баллов.\n",
    "\n",
    "Сдавать задание после указанного срока сдачи нельзя. При выставлении неполного балла за задание в связи с наличием ошибок на усмотрение проверяющего предусмотрена возможность исправить задание на указанных в ответном письме условиях.\n",
    "\n",
    "Задание выполняется САМОСТОЯТЕЛЬНО. «Похожие» решения считаются плагиатом и все задействованные студенты (в том числе те, у кого списали) не могут получить за него больше 0 баллов. Если вы нашли решение какого-то из заданий в открытом источнике, необходимо прислать ссылку на этот источник (скорее всего вы будете не единственным, кто это нашел, поэтому чтобы исключить подозрение в плагиате, необходима ссылка на источник). \n",
    "\n",
    "Если вы будете решать задание на виртуальной машине, учтите, что его могут видеть все.\n",
    "\n",
    "### Формат сдачи\n",
    "Для сдачи задания переименуйте получившийся файл \\*.ipynb в соответствии со следующим форматом: *Username_(group)_Lab4.ipynb*, где Username — ваша фамилия на латинице, group — название группы (например, Struminsky_IAD-20_Lab4.ipynb). Далее отправьте этот файл на используемую в Вашей группе почту курса (hse.minor.dm@gmail.com) c темой письма *[ИАД-NN] - Лабораторная работа 4 - Фамилия Имя Отчество*. Правильное указание темы письма позволит нам быстрее на него отреагировать!"
   ]
  },
  {
   "cell_type": "markdown",
   "metadata": {},
   "source": [
    "# Визуализация данных"
   ]
  },
  {
   "cell_type": "code",
   "execution_count": 2,
   "metadata": {
    "collapsed": false
   },
   "outputs": [
    {
     "data": {
      "image/png": "[encoded data removed]",
      "text/plain": [
       "<matplotlib.figure.Figure at 0x10f630310>"
      ]
     },
     "metadata": {},
     "output_type": "display_data"
    }
   ],
   "source": [
    "import sklearn.datasets\n",
    "import numpy as np\n",
    "import matplotlib.pylab as plt\n",
    "%matplotlib inline\n",
    "\n",
    "digits = sklearn.datasets.load_digits()\n",
    "\n",
    "X = digits.data\n",
    "y = digits.target\n",
    "\n",
    "fig, axes = plt.subplots(1, 6, figsize = (5, 5))\n",
    "fig.set_figheight(1.5)\n",
    "fig.set_figwidth(9)\n",
    "for axis in axes:\n",
    "    i = np.random.choice(X.shape[0])\n",
    "    axis.set_axis_off()\n",
    "    axis.imshow(1 - X[i].reshape(8, 8), cmap = 'gray', interpolation = 'None')"
   ]
  },
  {
   "cell_type": "markdown",
   "metadata": {},
   "source": [
    "**Задача 1.1 (1 балл) ** Нормальзовать данные и воспользоваться методом главных компонент для снижения размерности данных до двух."
   ]
  },
  {
   "cell_type": "code",
   "execution_count": null,
   "metadata": {
    "collapsed": true
   },
   "outputs": [],
   "source": []
  },
  {
   "cell_type": "markdown",
   "metadata": {},
   "source": [
    "** Задача 1.2 (2 балла) ** Преобразованные данные можно изобразить на плоскости. Напишите код, который красит каждую точку плоскости в цвет, соответвующий исходной цифре. Какие цифры оказываются сконцентрированы в стороне? Какие цифры сильно накладываются друг на друга? Как это соотносится с их начертанием?\n",
    "\n",
    "Убедитесь, что изображение будет достаточно большим, точки хорошо видны на графике и подписаны."
   ]
  },
  {
   "cell_type": "code",
   "execution_count": null,
   "metadata": {
    "collapsed": false
   },
   "outputs": [],
   "source": []
  },
  {
   "cell_type": "markdown",
   "metadata": {},
   "source": [
    "# Подбор параметров в логических методах"
   ]
  },
  {
   "cell_type": "markdown",
   "metadata": {},
   "source": [
    "** Задача 2.1 (1 балл) ** Разделите выборку на тренировочную и проверочную, обучите на тренировочной выборке дерево принятия решений. Подберите параметры дерева *max_depth* и *max_features* с помощью класса [GridSearchCV](http://scikit-learn.org/stable/modules/generated/sklearn.grid_search.GridSearchCV.html)."
   ]
  },
  {
   "cell_type": "code",
   "execution_count": null,
   "metadata": {
    "collapsed": false
   },
   "outputs": [],
   "source": [
    "from sklearn.metrics import classification_report\n",
    "\n",
    "target_names = ['%d' % i for i in range(10)]\n",
    "\n",
    "y_pred = tree.predict(X_test)\n",
    "\n",
    "print(classification_report(y_test, y_pred, target_names=target_names))"
   ]
  },
  {
   "cell_type": "markdown",
   "metadata": {},
   "source": [
    "**Задача 2.2 (1 балл)** Выпишите явно подобранные параметры, score классификаторов на всей сетке параметров."
   ]
  },
  {
   "cell_type": "code",
   "execution_count": null,
   "metadata": {
    "collapsed": true
   },
   "outputs": [],
   "source": []
  },
  {
   "cell_type": "markdown",
   "metadata": {},
   "source": [
    "** Задача 2.3 (1 балл) ** Обучите на тренировочной выборке случайный лес. Подберите параметр леса *num_estimators* с помощью класса [GridSearchCV](http://scikit-learn.org/stable/modules/generated/sklearn.grid_search.GridSearchCV.html)."
   ]
  },
  {
   "cell_type": "code",
   "execution_count": null,
   "metadata": {
    "collapsed": false
   },
   "outputs": [],
   "source": []
  },
  {
   "cell_type": "markdown",
   "metadata": {},
   "source": [
    "**Задача 2.4 (1 балл) ** Выведите отчет о классификации [classification_report](http://scikit-learn.org/stable/modules/generated/sklearn.metrics.classification_report.html)"
   ]
  },
  {
   "cell_type": "code",
   "execution_count": null,
   "metadata": {
    "collapsed": false
   },
   "outputs": [],
   "source": []
  },
  {
   "cell_type": "markdown",
   "metadata": {},
   "source": [
    "# Визуализация выхода алгоритма"
   ]
  },
  {
   "cell_type": "markdown",
   "metadata": {},
   "source": [
    "**Задание 3.1 (2 балла) ** Для цифры с наименьшим f1-score из третьего задания построить визуализацию: нарисовать все точки тестовых данных, выделив выбранную цифру отдельным цветом."
   ]
  },
  {
   "cell_type": "code",
   "execution_count": null,
   "metadata": {
    "collapsed": false
   },
   "outputs": [],
   "source": []
  },
  {
   "cell_type": "markdown",
   "metadata": {},
   "source": [
    "** Задание 3.2 (1 балл) ** Обучить случайный лес отличать выбранную цифру от остальных. Построить ROC-кривую полученного классификатора, посчитать метрику ROC-AUC"
   ]
  },
  {
   "cell_type": "code",
   "execution_count": null,
   "metadata": {
    "collapsed": false
   },
   "outputs": [],
   "source": []
  }
 ],
 "metadata": {
  "kernelspec": {
   "display_name": "Python 2",
   "language": "python",
   "name": "python2"
  },
  "language_info": {
   "codemirror_mode": {
    "name": "ipython",
    "version": 2
   },
   "file_extension": ".py",
   "mimetype": "text/x-python",
   "name": "python",
   "nbconvert_exporter": "python",
   "pygments_lexer": "ipython2",
   "version": "2.7.11"
  }
 },
 "nbformat": 4,
 "nbformat_minor": 0
}
