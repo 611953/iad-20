{
 "cells": [
  {
   "cell_type": "markdown",
   "metadata": {},
   "source": [
    "# Пример работы с данными опроса\n",
    "Для работы с таблицами мы будем использовать библиотеку Pandas."
   ]
  },
  {
   "cell_type": "code",
   "execution_count": 3,
   "metadata": {
    "collapsed": true
   },
   "outputs": [],
   "source": [
    "import pandas as pd"
   ]
  },
  {
   "cell_type": "markdown",
   "metadata": {},
   "source": [
    "Посмотрим на данные опроса, проведенного на прошлой неделе. Они были экспортированы в формат **.csv** (Comma-Separated Values). Документ .csv, как можно догадаться из расшифровки, представляет собой таблицу данных с разделенными запятыми компонентами. "
   ]
  },
  {
   "cell_type": "code",
   "execution_count": 4,
   "metadata": {
    "collapsed": false
   },
   "outputs": [
    {
     "data": {
      "text/plain": [
       "pandas.core.frame.DataFrame"
      ]
     },
     "execution_count": 4,
     "metadata": {},
     "output_type": "execute_result"
    }
   ],
   "source": [
    "data = pd.read_csv(\"responses.csv\")\n",
    "type(data)"
   ]
  },
  {
   "cell_type": "markdown",
   "metadata": {},
   "source": [
    "Посмотрим на первые 3 анкеты:"
   ]
  },
  {
   "cell_type": "code",
   "execution_count": 6,
   "metadata": {
    "collapsed": false
   },
   "outputs": [
    {
     "data": {
      "text/html": [
       "<div>\n",
       "<table border=\"1\" class=\"dataframe\">\n",
       "  <thead>\n",
       "    <tr style=\"text-align: right;\">\n",
       "      <th></th>\n",
       "      <th>Timestamp</th>\n",
       "      <th>Фамилия Имя Отчество</th>\n",
       "      <th>E-mail адрес</th>\n",
       "      <th>Роль на курсе</th>\n",
       "      <th>Пол</th>\n",
       "      <th>Группа</th>\n",
       "      <th>Дата рождения</th>\n",
       "      <th>GPA (Средний балл)</th>\n",
       "      <th>Родной город</th>\n",
       "      <th>Имели опыт анализа данных до курса?</th>\n",
       "      <th>...</th>\n",
       "      <th>Сколько параметров имеет нормальное распределение?</th>\n",
       "      <th>Какой статистический критерий примените для проверки различия между двумя связанными выборками, в случае, если нельзя сделать предположение о виде распределения выборки?</th>\n",
       "      <th>Сколько листьев имеет полное двоичное дерево высоты 3?</th>\n",
       "      <th>Характеризуйте тремя предложениями, почему решили пойти на курс?</th>\n",
       "      <th>Какими социальными сетями пользуетесь?</th>\n",
       "      <th>Ссылка на личный вебсайт</th>\n",
       "      <th>Ссылка на профиль в LinkedIn</th>\n",
       "      <th>Ссылка на страницу в Facebook</th>\n",
       "      <th>Согласие на обработку данных</th>\n",
       "      <th>Факультет</th>\n",
       "    </tr>\n",
       "  </thead>\n",
       "  <tbody>\n",
       "    <tr>\n",
       "      <th>0</th>\n",
       "      <td>1/11/2016 21:16:50</td>\n",
       "      <td>Шестаков Андрей Владимирович</td>\n",
       "      <td>shestakoffandrey@gmail.com</td>\n",
       "      <td>Семинарист</td>\n",
       "      <td>мужской</td>\n",
       "      <td>ИАД-3</td>\n",
       "      <td>5/17/1991</td>\n",
       "      <td>7.00</td>\n",
       "      <td>г. Бор, Нижегородская область</td>\n",
       "      <td>да</td>\n",
       "      <td>...</td>\n",
       "      <td>2</td>\n",
       "      <td>Критерий знаковых рангов Уилкоксона</td>\n",
       "      <td>8</td>\n",
       "      <td>For. The. Science!</td>\n",
       "      <td>Facebook, VK.com (ВКонтакте), LinkedIn, Github...</td>\n",
       "      <td>NaN</td>\n",
       "      <td>NaN</td>\n",
       "      <td>NaN</td>\n",
       "      <td>Я заполнил форму полностью и даю согласие на о...</td>\n",
       "      <td>Компьютерных Наук</td>\n",
       "    </tr>\n",
       "    <tr>\n",
       "      <th>1</th>\n",
       "      <td>1/11/2016 22:13:51</td>\n",
       "      <td>Кашницкий Юрий Савельевич</td>\n",
       "      <td>yury.kashnitsky@gmail.com</td>\n",
       "      <td>Семинарист</td>\n",
       "      <td>мужской</td>\n",
       "      <td>аспирант 3 года</td>\n",
       "      <td>11/1/1990</td>\n",
       "      <td>4.53</td>\n",
       "      <td>Москва</td>\n",
       "      <td>да</td>\n",
       "      <td>...</td>\n",
       "      <td>2</td>\n",
       "      <td>Критерий знаковых рангов Уилкоксона</td>\n",
       "      <td>8</td>\n",
       "      <td>Хочу получить опыт преподавания не только Pyth...</td>\n",
       "      <td>Facebook, VK.com (ВКонтакте), LinkedIn, Github</td>\n",
       "      <td>http://www.hse.ru/staff/ykashnitsky</td>\n",
       "      <td>https://www.linkedin.com/profile/view?id=19224...</td>\n",
       "      <td>https://www.facebook.com/festline</td>\n",
       "      <td>Я заполнил форму полностью и даю согласие на о...</td>\n",
       "      <td>Факультет Компьютерных Наук</td>\n",
       "    </tr>\n",
       "    <tr>\n",
       "      <th>2</th>\n",
       "      <td>1/12/2016 9:28:50</td>\n",
       "      <td>Захарова Елена Сергеевна</td>\n",
       "      <td>1583253@gmail.com</td>\n",
       "      <td>Студент</td>\n",
       "      <td>женский</td>\n",
       "      <td>20</td>\n",
       "      <td>11/19/1996</td>\n",
       "      <td>NaN</td>\n",
       "      <td>Москва</td>\n",
       "      <td>нет</td>\n",
       "      <td>...</td>\n",
       "      <td>NaN</td>\n",
       "      <td>Не знаю</td>\n",
       "      <td>Не знаю, что такое двоичное дерево</td>\n",
       "      <td>Полезно. Для. Основной специальности.</td>\n",
       "      <td>VK.com (ВКонтакте), Instagram</td>\n",
       "      <td>NaN</td>\n",
       "      <td>NaN</td>\n",
       "      <td>NaN</td>\n",
       "      <td>Я заполнил форму полностью и даю согласие на о...</td>\n",
       "      <td>Гуманитарных наук/Лингвистика</td>\n",
       "    </tr>\n",
       "  </tbody>\n",
       "</table>\n",
       "<p>3 rows × 27 columns</p>\n",
       "</div>"
      ],
      "text/plain": [
       "            Timestamp          Фамилия Имя Отчество  \\\n",
       "0  1/11/2016 21:16:50  Шестаков Андрей Владимирович   \n",
       "1  1/11/2016 22:13:51     Кашницкий Юрий Савельевич   \n",
       "2   1/12/2016 9:28:50      Захарова Елена Сергеевна   \n",
       "\n",
       "                 E-mail адрес Роль на курсе      Пол           Группа  \\\n",
       "0  shestakoffandrey@gmail.com    Семинарист  мужской            ИАД-3   \n",
       "1   yury.kashnitsky@gmail.com    Семинарист  мужской  аспирант 3 года   \n",
       "2           1583253@gmail.com       Студент  женский               20   \n",
       "\n",
       "  Дата рождения  GPA (Средний балл)                   Родной город  \\\n",
       "0     5/17/1991                7.00  г. Бор, Нижегородская область   \n",
       "1     11/1/1990                4.53                         Москва   \n",
       "2    11/19/1996                 NaN                         Москва   \n",
       "\n",
       "  Имели опыт анализа данных до курса?              ...                \\\n",
       "0                                  да              ...                 \n",
       "1                                  да              ...                 \n",
       "2                                 нет              ...                 \n",
       "\n",
       "  Сколько параметров имеет нормальное распределение?  \\\n",
       "0                                                  2   \n",
       "1                                                  2   \n",
       "2                                                NaN   \n",
       "\n",
       "  Какой статистический критерий примените для проверки различия между двумя связанными выборками, в случае, если нельзя сделать предположение о виде распределения выборки?  \\\n",
       "0                Критерий знаковых рангов Уилкоксона                                                                                                                          \n",
       "1                Критерий знаковых рангов Уилкоксона                                                                                                                          \n",
       "2                                            Не знаю                                                                                                                          \n",
       "\n",
       "  Сколько листьев имеет полное двоичное дерево высоты 3?  \\\n",
       "0                                                  8       \n",
       "1                                                  8       \n",
       "2                 Не знаю, что такое двоичное дерево       \n",
       "\n",
       "  Характеризуйте тремя предложениями, почему решили пойти на курс?  \\\n",
       "0                                 For. The. Science!                 \n",
       "1  Хочу получить опыт преподавания не только Pyth...                 \n",
       "2              Полезно. Для. Основной специальности.                 \n",
       "\n",
       "              Какими социальными сетями пользуетесь?  \\\n",
       "0  Facebook, VK.com (ВКонтакте), LinkedIn, Github...   \n",
       "1     Facebook, VK.com (ВКонтакте), LinkedIn, Github   \n",
       "2                      VK.com (ВКонтакте), Instagram   \n",
       "\n",
       "              Ссылка на личный вебсайт  \\\n",
       "0                                  NaN   \n",
       "1  http://www.hse.ru/staff/ykashnitsky   \n",
       "2                                  NaN   \n",
       "\n",
       "                        Ссылка на профиль в LinkedIn  \\\n",
       "0                                                NaN   \n",
       "1  https://www.linkedin.com/profile/view?id=19224...   \n",
       "2                                                NaN   \n",
       "\n",
       "       Ссылка на страницу в Facebook  \\\n",
       "0                                NaN   \n",
       "1  https://www.facebook.com/festline   \n",
       "2                                NaN   \n",
       "\n",
       "                        Согласие на обработку данных  \\\n",
       "0  Я заполнил форму полностью и даю согласие на о...   \n",
       "1  Я заполнил форму полностью и даю согласие на о...   \n",
       "2  Я заполнил форму полностью и даю согласие на о...   \n",
       "\n",
       "                       Факультет  \n",
       "0              Компьютерных Наук  \n",
       "1    Факультет Компьютерных Наук  \n",
       "2  Гуманитарных наук/Лингвистика  \n",
       "\n",
       "[3 rows x 27 columns]"
      ]
     },
     "execution_count": 6,
     "metadata": {},
     "output_type": "execute_result"
    }
   ],
   "source": [
    "data.head(3)"
   ]
  },
  {
   "cell_type": "code",
   "execution_count": 5,
   "metadata": {
    "collapsed": false
   },
   "outputs": [
    {
     "data": {
      "text/plain": [
       "Index(['Timestamp', 'Фамилия Имя Отчество', 'E-mail адрес', 'Роль на курсе',\n",
       "       'Пол', 'Группа', 'Дата рождения', 'GPA (Средний балл)', 'Родной город',\n",
       "       'Имели опыт анализа данных до курса?',\n",
       "       'Есть ли у вас научные публикации / доклады?',\n",
       "       'Есть ли у вас публикации в ненаучных изданиях (журналы, тематические блоги и т.д.)? Перечислите издания через запятую.',\n",
       "       'Какой ваш уровень владения английским языком?',\n",
       "       'Как называется изучаемый на курсе предмет по-английски?',\n",
       "       'Какими языками программирования владеете?', 'Сколько будет 2+2?',\n",
       "       'После удержания налога на доходы Мария Константиновна получила 16530 рублей. Сколько рублей составляет заработная плата Марии Константиновны?',\n",
       "       'Сколько параметров имеет нормальное распределение?',\n",
       "       'Какой статистический критерий примените для проверки различия между двумя связанными выборками, в случае, если нельзя сделать предположение о виде распределения выборки?',\n",
       "       'Сколько листьев имеет полное двоичное дерево высоты 3?',\n",
       "       'Характеризуйте тремя предложениями, почему решили пойти на курс?',\n",
       "       'Какими социальными сетями пользуетесь?', 'Ссылка на личный вебсайт',\n",
       "       'Ссылка на профиль в LinkedIn', 'Ссылка на страницу в Facebook',\n",
       "       'Согласие на обработку данных', 'Факультет'],\n",
       "      dtype='object')"
      ]
     },
     "execution_count": 5,
     "metadata": {},
     "output_type": "execute_result"
    }
   ],
   "source": [
    "data.columns"
   ]
  },
  {
   "cell_type": "code",
   "execution_count": null,
   "metadata": {
    "collapsed": true
   },
   "outputs": [],
   "source": [
    "data.shape"
   ]
  },
  {
   "cell_type": "code",
   "execution_count": null,
   "metadata": {
    "collapsed": true
   },
   "outputs": [],
   "source": [
    "data.index = data[\"Фамилия Имя Отчество\"]\n",
    "data.ix[\"Соколов Евгений Андреевич\"]"
   ]
  },
  {
   "cell_type": "code",
   "execution_count": null,
   "metadata": {
    "collapsed": true
   },
   "outputs": [],
   "source": [
    "data['Timespamp']\n",
    "data.Timestamp\n",
    "type(data.Timestamp)"
   ]
  },
  {
   "cell_type": "markdown",
   "metadata": {},
   "source": [
    "Построим простую гистрограмму:"
   ]
  },
  {
   "cell_type": "code",
   "execution_count": null,
   "metadata": {
    "collapsed": true
   },
   "outputs": [],
   "source": [
    "%matplotlib inline\n",
    "GPA = data['GPA (Средний балл)']\n",
    "GPA.hist();\n",
    "GPA.mean(), GPA.std()"
   ]
  },
  {
   "cell_type": "markdown",
   "metadata": {},
   "source": [
    "## Индексация!"
   ]
  },
  {
   "cell_type": "code",
   "execution_count": null,
   "metadata": {
    "collapsed": false
   },
   "outputs": [],
   "source": [
    "fixed_GPA_data = data[(data['GPA (Средний балл)'] <= 10) & (data['GPA (Средний балл)'] > 0)]\n",
    "unusual_GPA_data = data[(data['GPA (Средний балл)'] > 10) | (data['GPA (Средний балл)'] < 3)]\n",
    "fixed_GPA_data['GPA (Средний балл)'].hist()\n",
    "fixed_GPA_data['GPA (Средний балл)'].mean(), fixed_GPA_data['GPA (Средний балл)'].var()"
   ]
  },
  {
   "cell_type": "code",
   "execution_count": null,
   "metadata": {
    "collapsed": true
   },
   "outputs": [],
   "source": [
    "fixed_GPA_data['GPA (Средний балл)'].plot()"
   ]
  },
  {
   "cell_type": "code",
   "execution_count": null,
   "metadata": {
    "collapsed": true
   },
   "outputs": [],
   "source": [
    "data[\"Сколько будет 2+2?\"].unique()"
   ]
  },
  {
   "cell_type": "markdown",
   "metadata": {},
   "source": [
    "## Незаполненные данные"
   ]
  },
  {
   "cell_type": "code",
   "execution_count": null,
   "metadata": {
    "collapsed": true
   },
   "outputs": [],
   "source": [
    "data.dropna(subset = ['Ссылка на личный вебсайт'])"
   ]
  },
  {
   "cell_type": "markdown",
   "metadata": {},
   "source": [
    "##Преобразование столбцов\n",
    "\n",
    "Для \"причесывания\" данных оказывается незаменим метод map()"
   ]
  },
  {
   "cell_type": "code",
   "execution_count": null,
   "metadata": {
    "collapsed": true
   },
   "outputs": [],
   "source": [
    "print(data.Timestamp.map.__doc__)"
   ]
  },
  {
   "cell_type": "markdown",
   "metadata": {},
   "source": [
    "Воспользуемся ответам на вопрос о налогообложении для примера"
   ]
  },
  {
   "cell_type": "code",
   "execution_count": null,
   "metadata": {
    "collapsed": false
   },
   "outputs": [],
   "source": [
    "data = data.rename(columns = {\"После удержания налога на доходы Мария Константиновна получила 16530 рублей. Сколько рублей составляет заработная плата Марии Константиновны?\" : \"tax_question\"})"
   ]
  },
  {
   "cell_type": "markdown",
   "metadata": {},
   "source": [
    "Изначально ответы были таковы:"
   ]
  },
  {
   "cell_type": "code",
   "execution_count": null,
   "metadata": {
    "collapsed": true
   },
   "outputs": [],
   "source": [
    "data.tax_question.unique()"
   ]
  },
  {
   "cell_type": "markdown",
   "metadata": {},
   "source": [
    "Пример с функцией:"
   ]
  },
  {
   "cell_type": "code",
   "execution_count": null,
   "metadata": {
    "collapsed": true
   },
   "outputs": [],
   "source": [
    "def clean(string):\n",
    "    try:\n",
    "        return float(string)\n",
    "    except:\n",
    "        return None\n",
    "\n",
    "data.tax_question = data.tax_question.map(clean)\n",
    "data.tax_question"
   ]
  },
  {
   "cell_type": "markdown",
   "metadata": {},
   "source": [
    "Пример со словарём:"
   ]
  },
  {
   "cell_type": "code",
   "execution_count": null,
   "metadata": {
    "collapsed": false
   },
   "outputs": [],
   "source": [
    "data[\"Сколько будет 2+2?\"].unique()"
   ]
  },
  {
   "cell_type": "code",
   "execution_count": null,
   "metadata": {
    "collapsed": false
   },
   "outputs": [],
   "source": [
    "dict = {'4' : 'Ответил', \n",
    "        '100' : 'Не ответил',\n",
    "        '5' : 'Не ответил', \n",
    "        'ровно 4' : 'Ответил', \n",
    "        '22' : 'Не ответил', \n",
    "        'зависит от системы счисления ' : 'Не ответил', \n",
    "        '44' : 'Не ответил'}\n",
    "data[\"Сколько будет 2+2?\"].map(dict)"
   ]
  },
  {
   "cell_type": "markdown",
   "metadata": {},
   "source": [
    "Для работы со временем может пригодиться тип [**datetime**](https://docs.python.org/3/library/datetime.html)"
   ]
  },
  {
   "cell_type": "code",
   "execution_count": null,
   "metadata": {
    "collapsed": false
   },
   "outputs": [],
   "source": [
    "from datetime import datetime\n",
    "\n",
    "data[\"Timestamp\"].map(lambda t: datetime.strptime(t, \"%m/%d/%Y %H:%M:%S\").date())"
   ]
  },
  {
   "cell_type": "markdown",
   "metadata": {
    "collapsed": true
   },
   "source": [
    "В конце-концов сохранять Dataframe можно так:"
   ]
  },
  {
   "cell_type": "code",
   "execution_count": null,
   "metadata": {
    "collapsed": true
   },
   "outputs": [],
   "source": [
    "data.to_csv(\"transformed_data.csv\")"
   ]
  },
  {
   "cell_type": "markdown",
   "metadata": {},
   "source": [
    "#Задания для практики\n",
    "\n",
    "1. Выписать e-mail людей, правильно ответивших на вопрос о статистических критериях\n",
    "2. Найти всех своих тёзок на курсе\n",
    "3. Построить гистограмму для ответов о количестве параметров нормального распределения. Распределены ли ответы нормально?\n",
    "4. Выписать средний балл студентов в зависимости от уровня владения английским языком (можно воспользоваться методом groupby())\n",
    "5. Составить список всех людей с ФКН, которые правильно ответили на вопрос о количестве вершин в двоичном дереве. Выписать указанные ими профили в facebook.\n",
    "6. Известно, что с достаточно большой вероятностью среди 40 людей найдется пара человек, у которых совпадает день рождения. Есть ли такие на курсе? "
   ]
  },
  {
   "cell_type": "code",
   "execution_count": null,
   "metadata": {
    "collapsed": true
   },
   "outputs": [],
   "source": []
  }
 ],
 "metadata": {
  "kernelspec": {
   "display_name": "Python 3",
   "language": "python",
   "name": "python3"
  },
  "language_info": {
   "codemirror_mode": {
    "name": "ipython",
    "version": 3
   },
   "file_extension": ".py",
   "mimetype": "text/x-python",
   "name": "python",
   "nbconvert_exporter": "python",
   "pygments_lexer": "ipython3",
   "version": "3.4.3"
  }
 },
 "nbformat": 4,
 "nbformat_minor": 0
}
