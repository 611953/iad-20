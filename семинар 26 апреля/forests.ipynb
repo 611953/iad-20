{
 "cells": [
  {
   "cell_type": "markdown",
   "metadata": {},
   "source": [
    "# Деревья, бэггинг\n",
    "\n",
    "Загружаем данные"
   ]
  },
  {
   "cell_type": "code",
   "execution_count": null,
   "metadata": {
    "collapsed": true
   },
   "outputs": [],
   "source": [
    "import pandas as pd\n",
    "import numpy as np\n",
    "import matplotlib.pylab as plt\n",
    "\n",
    "%matplotlib inline\n",
    "\n",
    "df = pd.read_csv('titanic.csv')"
   ]
  },
  {
   "cell_type": "markdown",
   "metadata": {},
   "source": [
    "Изучаем пристально:"
   ]
  },
  {
   "cell_type": "code",
   "execution_count": null,
   "metadata": {
    "collapsed": false
   },
   "outputs": [],
   "source": [
    "df.head(10)"
   ]
  },
  {
   "cell_type": "markdown",
   "metadata": {},
   "source": [
    "Баланс классов?"
   ]
  },
  {
   "cell_type": "markdown",
   "metadata": {},
   "source": [
    "Небольшая чистка:"
   ]
  },
  {
   "cell_type": "code",
   "execution_count": null,
   "metadata": {
    "collapsed": true
   },
   "outputs": [],
   "source": [
    "# выкидываем признаки\n",
    "df = df.drop(['PassengerId', 'Name', 'Ticket', 'Fare', 'Cabin', 'Embarked'], axis = 1)\n",
    "# заполняем пропуски\n",
    "df.fillna(df.Age.mean(), inplace = True)\n",
    "# меняем значения бинарного признака со строк на {0, 1}\n",
    "df.Sex = df.Sex.map({'male' : 0, 'female' : 1})\n",
    "df.head(4)"
   ]
  },
  {
   "cell_type": "code",
   "execution_count": null,
   "metadata": {
    "collapsed": true
   },
   "outputs": [],
   "source": [
    "X = df.values[:, 1:]\n",
    "y = df.values[:, 0]"
   ]
  },
  {
   "cell_type": "markdown",
   "metadata": {},
   "source": [
    "Давайте попробуем сами придумать решающее правило для классификации?\n",
    "\n",
    "| Признак | Номер признака |\n",
    "|---------|----------------|\n",
    "| Класс билета   |0|\n",
    "|Пол | 1 |\n",
    "| Возраст | 2|\n",
    "|Супруг, братья или сестры | 3 |\n",
    "| Дети или родители | 4 |"
   ]
  },
  {
   "cell_type": "code",
   "execution_count": null,
   "metadata": {
    "collapsed": false
   },
   "outputs": [],
   "source": [
    "def classify(x):\n",
    "    # здесь по набору признаков определяем класс\n",
    "    # попробуйте придумать какое-нибудь правило сами\n",
    "    if x[0] > 1:\n",
    "        return 0\n",
    "    else:\n",
    "        return 1\n",
    "    \n",
    "def score(X, y):\n",
    "    n = X.shape[0]\n",
    "    right_answers = 0\n",
    "    for i in range(n):\n",
    "        right_answers += (classify(X[i]) == y[i])\n",
    "    score = right_answers / n\n",
    "    return score\n",
    "\n",
    "print(score(X, y))"
   ]
  },
  {
   "cell_type": "markdown",
   "metadata": {},
   "source": [
    "Обучим дерево с помощью:"
   ]
  },
  {
   "cell_type": "code",
   "execution_count": null,
   "metadata": {
    "collapsed": false
   },
   "outputs": [],
   "source": [
    "from sklearn.tree import DecisionTreeClassifier\n",
    "from sklearn.cross_validation import train_test_split\n",
    "\n",
    "X_train, X_test, y_train, y_test = train_test_split(X, y)\n",
    "\n",
    "clf = tree.DecisionTreeClassifier()\n",
    "clf = clf.fit(X_train, y_train)"
   ]
  },
  {
   "cell_type": "markdown",
   "metadata": {},
   "source": [
    "Внутри класса можно найти дерево:"
   ]
  },
  {
   "cell_type": "code",
   "execution_count": null,
   "metadata": {
    "collapsed": false
   },
   "outputs": [],
   "source": [
    "clf.tree_"
   ]
  },
  {
   "cell_type": "markdown",
   "metadata": {},
   "source": [
    "Его можно визуализировать."
   ]
  },
  {
   "cell_type": "code",
   "execution_count": null,
   "metadata": {
    "collapsed": false
   },
   "outputs": [],
   "source": [
    "from sklearn.tree import export_graphviz\n",
    "\n",
    "feature_names = ['Билет класса', 'Пол', 'Возраст', \n",
    "                 'Супруг, братья или сестры', \n",
    "                 'Дети или родители']\n",
    "class_names = ['Не выжил','Выжил']\n",
    "\n",
    "with open('output.dot', 'w') as f:\n",
    "    f = export_graphviz(clf, feature_names = feature_names, class_names = class_names, out_file = f)"
   ]
  },
  {
   "cell_type": "markdown",
   "metadata": {},
   "source": [
    "А потом в коммандной строке выполнить:"
   ]
  },
  {
   "cell_type": "raw",
   "metadata": {},
   "source": [
    "dot -Tpdf output.dot -o tree.pdf"
   ]
  },
  {
   "cell_type": "code",
   "execution_count": null,
   "metadata": {
    "collapsed": false
   },
   "outputs": [],
   "source": [
    "clf = clf.fit(X_train, y_train)\n",
    "clf.score(X_test, y_test)"
   ]
  },
  {
   "cell_type": "markdown",
   "metadata": {},
   "source": [
    "1. Bootstrapping\n",
    "2. (Оценим что обучили)\n",
    "3. Aggregation"
   ]
  },
  {
   "cell_type": "code",
   "execution_count": null,
   "metadata": {
    "collapsed": false
   },
   "outputs": [],
   "source": [
    "# Обучим столько классификаторов:\n",
    "num = 20\n",
    "# Каждый из них добавим в этот список:\n",
    "clfs = []\n",
    "\n",
    "for i in range(num):\n",
    "    # место для кода\n",
    "    print('Промежуточный: ', clf.score(X_test, y_test))\n",
    "\n",
    "# каждый классификатор \"голосует\"\n",
    "aggregated_output = np.zeros((y_test.shape[0], 2), dtype = int)\n",
    "for clf in clfs:\n",
    "    # место для кода\n",
    "    \n",
    "# ответ с максимальным числом голосов считаем правильным\n",
    "output = np.argmax(aggregated_output, axis = 1)\n",
    "print('Итоговый скор: ', np.mean(output == y_test))"
   ]
  },
  {
   "cell_type": "code",
   "execution_count": null,
   "metadata": {
    "collapsed": false
   },
   "outputs": [],
   "source": [
    "from sklearn.ensemble import RandomForestClassifier\n",
    "\n",
    "clf = RandomForestClassifier()\n",
    "clf = clf.fit(X_train, y_train)\n",
    "clf.score(X_test, y_test)"
   ]
  },
  {
   "cell_type": "code",
   "execution_count": null,
   "metadata": {
    "collapsed": true
   },
   "outputs": [],
   "source": []
  }
 ],
 "metadata": {
  "kernelspec": {
   "display_name": "Python 3",
   "language": "python",
   "name": "python3"
  },
  "language_info": {
   "codemirror_mode": {
    "name": "ipython",
    "version": 3
   },
   "file_extension": ".py",
   "mimetype": "text/x-python",
   "name": "python",
   "nbconvert_exporter": "python",
   "pygments_lexer": "ipython3",
   "version": "3.5.1"
  }
 },
 "nbformat": 4,
 "nbformat_minor": 0
}
